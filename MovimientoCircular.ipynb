{
 "cells": [
  {
   "cell_type": "code",
   "execution_count": 5,
   "id": "23830b77",
   "metadata": {},
   "outputs": [
    {
     "data": {
      "text/html": [
       "<div id=\"glowscript\" class=\"glowscript\"></div>"
      ],
      "text/plain": [
       "<IPython.core.display.HTML object>"
      ]
     },
     "metadata": {},
     "output_type": "display_data"
    },
    {
     "data": {
      "application/javascript": [
       "if (typeof Jupyter !== \"undefined\") { window.__context = { glowscript_container: $(\"#glowscript\").removeAttr(\"id\")};}else{ element.textContent = ' ';}"
      ],
      "text/plain": [
       "<IPython.core.display.Javascript object>"
      ]
     },
     "metadata": {},
     "output_type": "display_data"
    }
   ],
   "source": [
    "from vpython import *\n",
    "import numpy as np\n",
    "scene = canvas(background=color.white, autoscale=False)\n",
    "import sympy as sp\n",
    "sp.init_printing() # for LaTeX formatted output\n",
    "import sympy.physics.vector as spv\n",
    "import IPython.display as disp\n",
    "\n",
    "run = False\n",
    "def runbutton(b): # Called when user clicks the Run/Pause button\n",
    "    global run\n",
    "    if run: b.text = 'Run' # b references the button\n",
    "    else: b.text = 'Pause'\n",
    "    run = not run\n",
    "\n",
    "t = sp.symbols('t')\n",
    "R= spv.ReferenceFrame('R')\n",
    "amplitud=5\n",
    "r_t=amplitud*(-sp.cos(2*t)*t*R.x+sp.sin(2*t)*R.y) # disp.display(r_t)\n",
    "v_t=r_t.diff(t,R) # disp.display(v_t)\n",
    "a_t=v_t.diff(t,R) # disp.display(a_t)\n",
    "#spv.dot(r_t, v_t)\n",
    "\n",
    "tempo=0\n",
    "posx=spv.dot(r_t, R.x).evalf(subs={t: tempo})\n",
    "posy=spv.dot(r_t, R.y).evalf(subs={t: tempo})\n",
    "velx=spv.dot(v_t, R.x).evalf(subs={t: tempo})\n",
    "vely=spv.dot(v_t, R.y).evalf(subs={t: tempo})\n",
    "acx=spv.dot(a_t, R.x).evalf(subs={t: tempo})\n",
    "acy=spv.dot(a_t, R.y).evalf(subs={t: tempo})\n",
    "\n",
    "r0=vector(posx, posy, 0)\n",
    "v0=vector(velx,vely,0)\n",
    "a0=vector(acx,acy,0)\n",
    "\n",
    "bola = sphere(pos=r0, radius=0.4, color=color.red, make_trail=True, emissive=True)\n",
    "bola.v=v0\n",
    "bola.a=a0\n",
    "attach_arrow(bola, 'v', scale=0.25, color=color.blue)\n",
    "attach_arrow(bola, 'a', scale=0.25, color=color.yellow)\n",
    "attach_light(bola)\n",
    "button(text='Run', bind=runbutton)\n",
    "\n",
    "tempo=0\n",
    "\n",
    "posiciones=graph(title='Posición de la partícula', height=200, xtitle='<i>t</i>', ytitle='<i>x,y</i>')\n",
    "velocidades=graph(title='Velocidad de la partícula', height=200, xtitle='<i>t</i>', ytitle='<i>v<sub>x</sub></i>, <i>v<sub>y</sub></i>')\n",
    "trayectoria=graph(title='Trayectoria de la partícula', width=300, height=300, xtitle='<i>x</i>', ytitle='<i>y</i>')\n",
    "hodografa=graph(title='Hodógrafa de la partícula', width=300, height=300, xtitle='<i>v<sub>x</sub></i>', ytitle='<i>v<sub>y</sub></i>')\n",
    "\n",
    "x = gcurve(color=color.black, legend=True, label=\"x\", graph=posiciones)\n",
    "y = gcurve(color=color.red, legend=True, label=\"y\", graph=posiciones)\n",
    "vx = gcurve(color=color.black, legend=True, label=\"x\", graph=velocidades)\n",
    "vy = gcurve(color=color.red, legend=True, label=\"y\", graph=velocidades)\n",
    "\n",
    "trj=gcurve(color=color.black, graph=trayectoria)\n",
    "hod=gcurve(color=color.black, graph=hodografa)\n",
    "\n",
    "tempo=0\n",
    "while (tempo <8):\n",
    "    rate(10)\n",
    "    if run:\n",
    "        tempo=tempo+0.1\n",
    "        posx=spv.dot(r_t, R.x).evalf(subs={t: tempo})\n",
    "        posy=spv.dot(r_t, R.y).evalf(subs={t: tempo})\n",
    "        velx=spv.dot(v_t, R.x).evalf(subs={t: tempo})\n",
    "        vely=spv.dot(v_t, R.y).evalf(subs={t: tempo})\n",
    "        acx=spv.dot(a_t, R.x).evalf(subs={t: tempo})\n",
    "        acy=spv.dot(a_t, R.y).evalf(subs={t: tempo})\n",
    "        bola.a=vector(acx,acy,0)\n",
    "        bola.v=vector(velx,vely,0)\n",
    "        bola.pos=vector(posx,posy,0)\n",
    "        x.plot(tempo, posx)\n",
    "        y.plot(tempo, posy)\n",
    "        vx.plot(tempo, velx)\n",
    "        vy.plot(tempo, vely)\n",
    "        trj.plot(posx,posy)\n",
    "        hod.plot(velx,vely)\n",
    "        tempo=tempo+0.01"
   ]
  },
  {
   "cell_type": "code",
   "execution_count": null,
   "id": "d9d61f72",
   "metadata": {},
   "outputs": [],
   "source": []
  }
 ],
 "metadata": {
  "kernelspec": {
   "display_name": "Python 3 (ipykernel)",
   "language": "python",
   "name": "python3"
  },
  "language_info": {
   "codemirror_mode": {
    "name": "ipython",
    "version": 3
   },
   "file_extension": ".py",
   "mimetype": "text/x-python",
   "name": "python",
   "nbconvert_exporter": "python",
   "pygments_lexer": "ipython3",
   "version": "3.10.4"
  }
 },
 "nbformat": 4,
 "nbformat_minor": 5
}
